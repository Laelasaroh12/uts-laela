{
  "cells": [
    {
      "cell_type": "markdown",
      "metadata": {
        "deletable": true,
        "editable": true,
        "id": "vQowA4uRZgMo"
      },
      "source": [
        "# Publications markdown generator for academicpages\n",
        "\n",
        "Takes a TSV of publications with metadata and converts them for use with [academicpages.github.io](academicpages.github.io). This is an interactive Jupyter notebook ([see more info here](http://jupyter-notebook-beginner-guide.readthedocs.io/en/latest/what_is_jupyter.html)). The core python code is also in `publications.py`. Run either from the `markdown_generator` folder after replacing `publications.tsv` with one containing your data.\n",
        "\n",
        "TODO: Make this work with BibTex and other databases of citations, rather than Stuart's non-standard TSV format and citation style.\n"
      ]
    },
    {
      "cell_type": "markdown",
      "metadata": {
        "id": "1HwjJZohZgMx"
      },
      "source": [
        "## Data format\n",
        "\n",
        "The TSV needs to have the following columns: pub_date, title, venue, excerpt, citation, site_url, and paper_url, with a header at the top. \n",
        "\n",
        "- `excerpt` and `paper_url` can be blank, but the others must have values. \n",
        "- `pub_date` must be formatted as YYYY-MM-DD.\n",
        "- `url_slug` will be the descriptive part of the .md file and the permalink URL for the page about the paper. The .md file will be `YYYY-MM-DD-[url_slug].md` and the permalink will be `https://[yourdomain]/publications/YYYY-MM-DD-[url_slug]`\n",
        "\n",
        "This is how the raw file looks (it doesn't look pretty, use a spreadsheet or other program to edit and create)."
      ]
    },
    {
      "cell_type": "code",
      "execution_count": 1,
      "metadata": {
        "id": "IWr9OcqwZgMy",
        "outputId": "14f77a8f-5c6e-43e1-f359-cfc973ea06b4",
        "colab": {
          "base_uri": "https://localhost:8080/"
        }
      },
      "outputs": [
        {
          "output_type": "stream",
          "name": "stdout",
          "text": [
            "cat: publications.tsv: No such file or directory\n"
          ]
        }
      ],
      "source": [
        "!cat publications.tsv"
      ]
    },
    {
      "cell_type": "markdown",
      "metadata": {
        "id": "_3ex8T6IZgM1"
      },
      "source": [
        "## Import pandas\n",
        "\n",
        "We are using the very handy pandas library for dataframes."
      ]
    },
    {
      "cell_type": "code",
      "execution_count": 2,
      "metadata": {
        "collapsed": true,
        "deletable": true,
        "editable": true,
        "id": "tfLvKnILZgM2"
      },
      "outputs": [],
      "source": [
        "import pandas as pd"
      ]
    },
    {
      "cell_type": "markdown",
      "metadata": {
        "id": "tnNUzHmAZgM2"
      },
      "source": [
        "## Import TSV\n",
        "\n",
        "Pandas makes this easy with the read_csv function. We are using a TSV, so we specify the separator as a tab, or `\\t`.\n",
        "\n",
        "I found it important to put this data in a tab-separated values format, because there are a lot of commas in this kind of data and comma-separated values can get messed up. However, you can modify the import statement, as pandas also has read_excel(), read_json(), and others."
      ]
    },
    {
      "cell_type": "code",
      "execution_count": null,
      "metadata": {
        "deletable": true,
        "editable": true,
        "id": "C29jsNqhZgM3"
      },
      "outputs": [],
      "source": [
        "publications = pd.read_csv(\"https://github.com/philsf-biostat/philsf-biostat.github.io/blob/main/markdown_generator/publications.tsv\", sep=\"\\t\", header=0)\n",
        "publications\n"
      ]
    },
    {
      "cell_type": "markdown",
      "metadata": {
        "id": "qlwVaVfGZgM4"
      },
      "source": [
        "## Escape special characters\n",
        "\n",
        "YAML is very picky about how it takes a valid string, so we are replacing single and double quotes (and ampersands) with their HTML encoded equivilents. This makes them look not so readable in raw format, but they are parsed and rendered nicely."
      ]
    },
    {
      "cell_type": "code",
      "execution_count": 5,
      "metadata": {
        "collapsed": true,
        "deletable": true,
        "editable": true,
        "id": "SCdcpnLcZgM6"
      },
      "outputs": [],
      "source": [
        "html_escape_table = {\n",
        "    \"&\": \"&amp;\",\n",
        "    '\"': \"&quot;\",\n",
        "    \"'\": \"&apos;\"\n",
        "    }\n",
        "\n",
        "def html_escape(text):\n",
        "    \"\"\"Produce entities within text.\"\"\"\n",
        "    return \"\".join(html_escape_table.get(c,c) for c in text)"
      ]
    },
    {
      "cell_type": "markdown",
      "metadata": {
        "id": "Ka3Va8ymZgM8"
      },
      "source": [
        "## Creating the markdown files\n",
        "\n",
        "This is where the heavy lifting is done. This loops through all the rows in the TSV dataframe, then starts to concatentate a big string (```md```) that contains the markdown for each type. It does the YAML metadata first, then does the description for the individual page."
      ]
    },
    {
      "cell_type": "code",
      "execution_count": 6,
      "metadata": {
        "deletable": true,
        "editable": true,
        "id": "cWceBC9DZgM9",
        "outputId": "6ec4c880-078a-4771-8fd0-07a4dc25c040",
        "colab": {
          "base_uri": "https://localhost:8080/",
          "height": 235
        }
      },
      "outputs": [
        {
          "output_type": "error",
          "ename": "NameError",
          "evalue": "ignored",
          "traceback": [
            "\u001b[0;31m---------------------------------------------------------------------------\u001b[0m",
            "\u001b[0;31mNameError\u001b[0m                                 Traceback (most recent call last)",
            "\u001b[0;32m<ipython-input-6-592da968cbd3>\u001b[0m in \u001b[0;36m<module>\u001b[0;34m\u001b[0m\n\u001b[1;32m      1\u001b[0m \u001b[0;32mimport\u001b[0m \u001b[0mos\u001b[0m\u001b[0;34m\u001b[0m\u001b[0;34m\u001b[0m\u001b[0m\n\u001b[0;32m----> 2\u001b[0;31m \u001b[0;32mfor\u001b[0m \u001b[0mrow\u001b[0m\u001b[0;34m,\u001b[0m \u001b[0mitem\u001b[0m \u001b[0;32min\u001b[0m \u001b[0mpublications\u001b[0m\u001b[0;34m.\u001b[0m\u001b[0miterrows\u001b[0m\u001b[0;34m(\u001b[0m\u001b[0;34m)\u001b[0m\u001b[0;34m:\u001b[0m\u001b[0;34m\u001b[0m\u001b[0;34m\u001b[0m\u001b[0m\n\u001b[0m\u001b[1;32m      3\u001b[0m \u001b[0;34m\u001b[0m\u001b[0m\n\u001b[1;32m      4\u001b[0m     \u001b[0mmd_filename\u001b[0m \u001b[0;34m=\u001b[0m \u001b[0mstr\u001b[0m\u001b[0;34m(\u001b[0m\u001b[0mitem\u001b[0m\u001b[0;34m.\u001b[0m\u001b[0mpub_date\u001b[0m\u001b[0;34m)\u001b[0m \u001b[0;34m+\u001b[0m \u001b[0;34m\"-\"\u001b[0m \u001b[0;34m+\u001b[0m \u001b[0mitem\u001b[0m\u001b[0;34m.\u001b[0m\u001b[0murl_slug\u001b[0m \u001b[0;34m+\u001b[0m \u001b[0;34m\".md\"\u001b[0m\u001b[0;34m\u001b[0m\u001b[0;34m\u001b[0m\u001b[0m\n\u001b[1;32m      5\u001b[0m     \u001b[0mhtml_filename\u001b[0m \u001b[0;34m=\u001b[0m \u001b[0mstr\u001b[0m\u001b[0;34m(\u001b[0m\u001b[0mitem\u001b[0m\u001b[0;34m.\u001b[0m\u001b[0mpub_date\u001b[0m\u001b[0;34m)\u001b[0m \u001b[0;34m+\u001b[0m \u001b[0;34m\"-\"\u001b[0m \u001b[0;34m+\u001b[0m \u001b[0mitem\u001b[0m\u001b[0;34m.\u001b[0m\u001b[0murl_slug\u001b[0m\u001b[0;34m\u001b[0m\u001b[0;34m\u001b[0m\u001b[0m\n",
            "\u001b[0;31mNameError\u001b[0m: name 'publications' is not defined"
          ]
        }
      ],
      "source": [
        "import os\n",
        "for row, item in publications.iterrows():\n",
        "    \n",
        "    md_filename = str(item.pub_date) + \"-\" + item.url_slug + \".md\"\n",
        "    html_filename = str(item.pub_date) + \"-\" + item.url_slug\n",
        "    year = item.pub_date[:4]\n",
        "    \n",
        "    ## YAML variables\n",
        "    \n",
        "    md = \"---\\ntitle: \\\"\"   + item.title + '\"\\n'\n",
        "    \n",
        "    md += \"\"\"collection: publications\"\"\"\n",
        "    \n",
        "    md += \"\"\"\\npermalink: /publication/\"\"\" + html_filename\n",
        "    \n",
        "    if len(str(item.excerpt)) > 5:\n",
        "        md += \"\\nexcerpt: '\" + html_escape(item.excerpt) + \"'\"\n",
        "    \n",
        "    md += \"\\ndate: \" + str(item.pub_date) \n",
        "    \n",
        "    md += \"\\nvenue: '\" + html_escape(item.venue) + \"'\"\n",
        "    \n",
        "    if len(str(item.paper_url)) > 5:\n",
        "        md += \"\\npaperurl: '\" + item.paper_url + \"'\"\n",
        "    \n",
        "    md += \"\\ncitation: '\" + html_escape(item.citation) + \"'\"\n",
        "    \n",
        "    md += \"\\n---\"\n",
        "    \n",
        "    ## Markdown description for individual page\n",
        "        \n",
        "    if len(str(item.excerpt)) > 5:\n",
        "        md += \"\\n\" + html_escape(item.excerpt) + \"\\n\"\n",
        "    \n",
        "    if len(str(item.paper_url)) > 5:\n",
        "        md += \"\\n[Download paper here](\" + item.paper_url + \")\\n\" \n",
        "        \n",
        "    md += \"\\nRecommended citation: \" + item.citation\n",
        "    \n",
        "    md_filename = os.path.basename(md_filename)\n",
        "       \n",
        "    with open(\"../_publications/\" + md_filename, 'w') as f:\n",
        "        f.write(md)"
      ]
    },
    {
      "cell_type": "markdown",
      "metadata": {
        "id": "vsdAWbBXZgM-"
      },
      "source": [
        "These files are in the publications directory, one directory below where we're working from."
      ]
    },
    {
      "cell_type": "code",
      "execution_count": 7,
      "metadata": {
        "deletable": true,
        "editable": true,
        "id": "3cFn1c7gZgM_",
        "outputId": "c2206732-2e3a-48fd-81ab-c44e11dd2bb1",
        "colab": {
          "base_uri": "https://localhost:8080/"
        }
      },
      "outputs": [
        {
          "output_type": "stream",
          "name": "stdout",
          "text": [
            "ls: cannot access '../_publications/': No such file or directory\n"
          ]
        }
      ],
      "source": [
        "!ls ../_publications/"
      ]
    },
    {
      "cell_type": "code",
      "execution_count": 8,
      "metadata": {
        "deletable": true,
        "editable": true,
        "id": "Kcuj68jXZgNA",
        "outputId": "fe2f5003-c69d-4905-b247-9386d075c60a",
        "colab": {
          "base_uri": "https://localhost:8080/"
        }
      },
      "outputs": [
        {
          "output_type": "stream",
          "name": "stdout",
          "text": [
            "cat: ../_publications/2009-10-01-paper-title-number-1.md: No such file or directory\n"
          ]
        }
      ],
      "source": [
        "!cat ../_publications/2009-10-01-paper-title-number-1.md"
      ]
    },
    {
      "cell_type": "code",
      "execution_count": null,
      "metadata": {
        "collapsed": true,
        "deletable": true,
        "editable": true,
        "id": "b938c3haZgNA"
      },
      "outputs": [],
      "source": []
    }
  ],
  "metadata": {
    "kernelspec": {
      "display_name": "Python 3",
      "language": "python",
      "name": "python3"
    },
    "language_info": {
      "codemirror_mode": {
        "name": "ipython",
        "version": 3
      },
      "file_extension": ".py",
      "mimetype": "text/x-python",
      "name": "python",
      "nbconvert_exporter": "python",
      "pygments_lexer": "ipython3",
      "version": "3.6.1"
    },
    "colab": {
      "provenance": []
    }
  },
  "nbformat": 4,
  "nbformat_minor": 0
}